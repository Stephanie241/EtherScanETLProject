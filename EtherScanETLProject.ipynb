{
 "cells": [
  {
   "cell_type": "markdown",
   "id": "12273851-565a-44eb-927d-5d395c465913",
   "metadata": {},
   "source": [
    "## Install necessary packages"
   ]
  },
  {
   "cell_type": "code",
   "execution_count": 32,
   "id": "9be62d1b-e804-449d-b965-e17423fd5747",
   "metadata": {},
   "outputs": [
    {
     "name": "stdout",
     "output_type": "stream",
     "text": [
      "Requirement already satisfied: PrettyTable in c:\\users\\stephanie\\appdata\\local\\programs\\python\\python311\\lib\\site-packages (3.9.0)\n",
      "Requirement already satisfied: wcwidth in c:\\users\\stephanie\\appdata\\local\\programs\\python\\python311\\lib\\site-packages (from PrettyTable) (0.2.6)\n",
      "Note: you may need to restart the kernel to use updated packages.\n"
     ]
    }
   ],
   "source": [
    "pip install PrettyTable"
   ]
  },
  {
   "cell_type": "code",
   "execution_count": 33,
   "id": "4dcef191-abb5-4433-a2be-8df5468b1b90",
   "metadata": {},
   "outputs": [
    {
     "name": "stdout",
     "output_type": "stream",
     "text": [
      "Requirement already satisfied: requests in c:\\users\\stephanie\\appdata\\local\\programs\\python\\python311\\lib\\site-packages (2.31.0)\n",
      "Requirement already satisfied: charset-normalizer<4,>=2 in c:\\users\\stephanie\\appdata\\local\\programs\\python\\python311\\lib\\site-packages (from requests) (3.2.0)\n",
      "Requirement already satisfied: idna<4,>=2.5 in c:\\users\\stephanie\\appdata\\local\\programs\\python\\python311\\lib\\site-packages (from requests) (3.4)\n",
      "Requirement already satisfied: urllib3<3,>=1.21.1 in c:\\users\\stephanie\\appdata\\local\\programs\\python\\python311\\lib\\site-packages (from requests) (2.0.5)\n",
      "Requirement already satisfied: certifi>=2017.4.17 in c:\\users\\stephanie\\appdata\\local\\programs\\python\\python311\\lib\\site-packages (from requests) (2023.7.22)\n",
      "Note: you may need to restart the kernel to use updated packages.\n"
     ]
    }
   ],
   "source": [
    "pip install requests"
   ]
  },
  {
   "cell_type": "code",
   "execution_count": 34,
   "id": "a4d2504b-4ecd-4628-828e-da6aec5c5830",
   "metadata": {},
   "outputs": [
    {
     "name": "stdout",
     "output_type": "stream",
     "text": [
      "Requirement already satisfied: pyodbc in c:\\users\\stephanie\\appdata\\local\\programs\\python\\python311\\lib\\site-packages (4.0.39)\n",
      "Note: you may need to restart the kernel to use updated packages.\n"
     ]
    }
   ],
   "source": [
    "pip install pyodbc"
   ]
  },
  {
   "cell_type": "markdown",
   "id": "ebb547db-d3a0-4ce9-8646-f08316082698",
   "metadata": {},
   "source": [
    "## Create Extract Function (Extract from Etherscan via RESTful API)"
   ]
  },
  {
   "cell_type": "code",
   "execution_count": 35,
   "id": "fa2f042c-95c8-491d-9da9-4be0a4a12beb",
   "metadata": {},
   "outputs": [],
   "source": [
    "#import modules necessary\n",
    "from prettytable import PrettyTable\n",
    "from datetime import datetime\n",
    "import json\n",
    "import requests\n",
    "import pyodbc #install pyodbc which is a module which will allow connection of python script to the database using ODBC (Open Database Connectivity) drivers.\n",
    "\n",
    "#define a function to extract bitcoin data from etherscan via api\n",
    "\n",
    "def ExtractAPI(input_contract_address):\n",
    "    # Set API key and ERC-20 token address\n",
    "    api_key = 'UX7D82IG4G4STQIXZF4SBWNPYNBM7E6B6E'\n",
    "    contract_address = input_contract_address\n",
    "\n",
    "    api_endpoint = 'https://api.etherscan.io/api'\n",
    "    api_params = {\n",
    "        'module': 'account',\n",
    "        'action': 'tokentx',\n",
    "        'contractaddress': contract_address,\n",
    "        'sort': 'desc',  # Sort transactions in descending order (most recent first)\n",
    "        'offset': 50,  # Gets the most recent 50 transactions (this is optional)\n",
    "        'page': 1,  # Get transactions from the first page\n",
    "        'apikey': api_key\n",
    "    }\n",
    "\n",
    "    transactions = []  # Initialize an empty list to store transaction data\n",
    "\n",
    "    # Paginate through the transaction results until we have xx transactions\n",
    "    response = requests.get(api_endpoint, params=api_params)\n",
    "    data = json.loads(response.text)['result']\n",
    "    transactions.extend(data)  # Add the transactions from this page to our list\n",
    "    api_params['page'] += 1  # Move to the next page of transactions\n",
    "\n",
    "    # print(transactions)\n",
    "\n",
    "    # Convert value to actual value\n",
    "    for d in transactions:\n",
    "        d['value'] = float(d['value'])/10**float(d['tokenDecimal'])\n",
    "\n",
    "    # Sort data by timestamp in descending order\n",
    "    sorted_data = sorted(transactions, key=lambda k: k['timeStamp'], reverse=True)\n",
    "\n",
    "    # Convert timestamp in sorted_data to yyyy/mm/dd HH:MM:SS format\n",
    "    for d in sorted_data:\n",
    "        d['dateTime'] = datetime.fromtimestamp(int(d['timeStamp'])).strftime('%Y-%m-%dT%H:%M:%S')\n",
    "\n",
    "    return sorted_data"
   ]
  },
  {
   "cell_type": "markdown",
   "id": "98e1bb6a-5f1c-4bba-b5aa-35262785a783",
   "metadata": {},
   "source": [
    "## Create Transform Function (Tranform and clean JSON data)"
   ]
  },
  {
   "cell_type": "code",
   "execution_count": 36,
   "id": "3a86d0a7-6777-435f-9c80-580bdfafe680",
   "metadata": {},
   "outputs": [],
   "source": [
    "def TransformJSON(sorted_data):\n",
    "\n",
    "    # Transform data as necessary\n",
    "    # Loop through the data and clean it\n",
    "    \n",
    "    transformed_data = []\n",
    "    for d in sorted_data:\n",
    "        if float(d['value']) > 100000:\n",
    "            d['amount_flag'] = 'High'\n",
    "        if float(d['value']) < 1000:\n",
    "            d['amount_flag'] = 'Low'  \n",
    "        else:\n",
    "            d['amount_flag'] = 'Medium'\n",
    "\n",
    "        # Remove the timestamp\n",
    "        d.pop('timeStamp', None)\n",
    "    \n",
    "        # Convert 'value' to float (if it's not already)\n",
    "        d['value'] = float(d['value'])\n",
    "\n",
    "        # print(transformed_data)\n",
    "\n",
    "        transformed_data.append(d) #appends the new data to the list\n",
    "\n",
    "    #table = PrettyTable()  \n",
    "    #table.field_names = transformed_data[0].keys()  # Set table headers based on keys in the first dictionary\n",
    "\n",
    "    #for i in transformed_data:\n",
    "        #table.add_row(i.values()) # Adds new rows to the table by passing the values of the current dictionary 'i' as a list\n",
    "\n",
    "    return transformed_data #return table - to return pretty table"
   ]
  },
  {
   "cell_type": "markdown",
   "id": "11d91cf2-28a4-4e7a-b15a-39c7dfbca04c",
   "metadata": {},
   "source": [
    "## Create Load Function (Load to SSMS)"
   ]
  },
  {
   "cell_type": "code",
   "execution_count": 37,
   "id": "c3713d96-ac09-4e39-ad28-91fb814eb71e",
   "metadata": {},
   "outputs": [],
   "source": [
    "def loadSSMS(input_transformed_data, tokenName):\n",
    "    # connect to SQL Server database using Windows authentication\n",
    "    conn=pyodbc.connect(Trusted_Connection='Yes',\n",
    "                          Driver='{ODBC Driver 17 for SQL Server}',\n",
    "                          Server='Andre',\n",
    "                          Database='Test')\n",
    "    cursor=conn.cursor()\n",
    "    \n",
    "    #Create the table in ssms\n",
    "    create_table_sql='''\n",
    "    IF NOT EXISTS (SELECT *\n",
    "    FROM INFORMATION_SCHEMA.TABLES\n",
    "    WHERE TABLE_NAME = 'ERC_Tokens')\n",
    "    BEGIN\n",
    "        CREATE TABLE ERC_Tokens ([blockNumber] int,\n",
    "                            [hash] varchar(MAX),\n",
    "                            [nonce] int,\n",
    "                            [blockHash] varchar(MAX),\n",
    "                            [from] varchar(MAX),\n",
    "                            [contractAddress] varchar(MAX),\n",
    "                            [to] varchar(MAX),\n",
    "                            [value] float,\n",
    "                            [tokenName] varchar(MAX),\n",
    "                            [tokenSymbol] varchar(MAX),\n",
    "                            [tokenDecimal] int,\n",
    "                            [transactionIndex] int,\n",
    "                            [gas] float,\n",
    "                            [gasPrice] nvarchar(MAX),\n",
    "                            [gasUsed] float,\n",
    "                            [cumulativeGasUsed] float,\n",
    "                            [input] varchar(MAX),\n",
    "                            [confirmations] int,\n",
    "                            [dateTime] datetime,\n",
    "                            [amount_flag] varchar(MAX)\n",
    "                            )\n",
    "                            \n",
    "    END\n",
    "    '''\n",
    "    cursor.execute(create_table_sql)\n",
    "    # print('Table has been created')\n",
    "    conn.commit()\n",
    "    \n",
    "    #------\n",
    "    \n",
    "    # Define your SQL INSERT statement\n",
    "    insert_sql = '''\n",
    "        INSERT INTO ERC_Tokens ([blockNumber],\n",
    "                            [hash],\n",
    "                            [nonce],\n",
    "                            [blockHash],\n",
    "                            [from],\n",
    "                            [contractAddress],\n",
    "                            [to],\n",
    "                            [value],\n",
    "                            [tokenName],\n",
    "                            [tokenSymbol],\n",
    "                            [tokenDecimal],\n",
    "                            [transactionIndex],\n",
    "                            [gas],\n",
    "                            [gasPrice],\n",
    "                            [gasUsed],\n",
    "                            [cumulativeGasUsed],\n",
    "                            [input],\n",
    "                            [confirmations],\n",
    "                            [dateTime],\n",
    "                            [amount_flag])\n",
    "        VALUES (?, ?, ?, ?, ?, ?, ?, ?, ?, ?, ?, ?, ?, ?, ?, ?, ?, ?, ?, ?)\n",
    "        '''\n",
    "    \n",
    "    # Loop through the list of dictionaries and insert data\n",
    "    for row in input_transformed_data:\n",
    "        values = (\n",
    "            row[\"blockNumber\"],      # Assuming blockNumber is an integer\n",
    "            row[\"hash\"],                  # Assuming hash is a string\n",
    "            row[\"nonce\"],            # Assuming nonce is an integer\n",
    "            row[\"blockHash\"],             # Assuming blockHash is a string\n",
    "            row[\"from\"],                  # Assuming from is a string\n",
    "            row[\"contractAddress\"],       # Assuming contractAddress is a string\n",
    "            row[\"to\"],                    # Assuming to is a string\n",
    "            row[\"value\"],          # Assuming value is a float\n",
    "            row[\"tokenName\"],             # Assuming tokenName is a string\n",
    "            row[\"tokenSymbol\"],           # Assuming tokenSymbol is a string\n",
    "            row[\"tokenDecimal\"],     # Assuming tokenDecimal is an integer\n",
    "            row[\"transactionIndex\"], # Assuming transactionIndex is an integer\n",
    "            row[\"gas\"],              # Assuming gas is an integer\n",
    "            row[\"gasPrice\"],         # Assuming gasPrice is an integer\n",
    "            row[\"gasUsed\"],          # Assuming gasUsed is an integer\n",
    "            row[\"cumulativeGasUsed\"], # Assuming cumulativeGasUsed is an integer\n",
    "            row[\"input\"],                 # Assuming input is a string\n",
    "            row[\"confirmations\"],    # Assuming confirmations is an integer\n",
    "            row[\"dateTime\"],              # Assuming dateTime is a string\n",
    "            row[\"amount_flag\"]            # Assuming amount_flag is a string\n",
    "        )\n",
    "    \n",
    "       \n",
    "    # Execute the SQL INSERT statement with parameterized values\n",
    "        cursor.execute(insert_sql, values)\n",
    "    # Commit the transaction to insert data into the table\n",
    "    conn.commit()\n",
    "    print(f'{tokenName} has been successfully inserted')\n",
    "    \n",
    "    #------\n",
    "    \n",
    "    duplicate_sql = '''\n",
    "    WITH CTE AS (\n",
    "            SELECT *,\n",
    "                   ROW_NUMBER() OVER (PARTITION BY dateTime, hash, value, tokenSymbol ORDER BY (SELECT NULL)) AS rn\n",
    "            FROM ERC_Tokens\n",
    "        )\n",
    "        DELETE FROM CTE WHERE rn > 1;\n",
    "    '''\n",
    "    cursor.execute(duplicate_sql)\n",
    "    # print('Duplicate rows have been deleted')\n",
    "    conn.commit()\n",
    "    \n",
    "    # print(filtered_orders_df.count())\n",
    "    # Close the cursor and the connection\n",
    "    cursor.close()\n",
    "    conn.close()"
   ]
  },
  {
   "cell_type": "markdown",
   "id": "22ef4e41-21d6-48c5-8540-0735f4bbdf1e",
   "metadata": {},
   "source": [
    "## Run the code on 10 different tokens"
   ]
  },
  {
   "cell_type": "code",
   "execution_count": 38,
   "id": "c990dd4d-2e28-45f9-b655-2762d4dd2927",
   "metadata": {
    "scrolled": true
   },
   "outputs": [
    {
     "name": "stdout",
     "output_type": "stream",
     "text": [
      "SHIBA INU has been successfully inserted\n",
      "TETHER USD has been successfully inserted\n",
      "BNB has been successfully inserted\n",
      "stETH has been successfully inserted\n",
      "TRON has been successfully inserted\n",
      "Theta has been successfully inserted\n",
      "Matic has been successfully inserted\n",
      "ChainLink has been successfully inserted\n",
      "Dai has been successfully inserted\n",
      "Uniswap has been successfully inserted\n"
     ]
    }
   ],
   "source": [
    "# 1 Shiba inu data stored in 'si_result' - GET SHIBA INU\n",
    "tokenName = 'SHIBA INU'\n",
    "si_result=ExtractAPI('0x95aD61b0a150d79219dCF64E1E6Cc01f0B64C4cE')\n",
    "si_result_transformed=TransformJSON(si_result)\n",
    "loadSSMS(si_result_transformed, tokenName)\n",
    "\n",
    "# 2 Tether USD data stored in 'tether_result' - GET TETHER USD\n",
    "tokenName = 'TETHER USD'\n",
    "tether_result=ExtractAPI('0xdAC17F958D2ee523a2206206994597C13D831ec7')\n",
    "tether_result_transformed=TransformJSON(tether_result)\n",
    "loadSSMS(tether_result_transformed, tokenName)\n",
    "\n",
    "# 3 BNB data stored in 'BNB_result' - GET BNB\n",
    "tokenName = 'BNB'\n",
    "BNB_result=ExtractAPI('0xB8c77482e45F1F44dE1745F52C74426C631bDD52')\n",
    "BNB_result_transformed=TransformJSON(BNB_result)\n",
    "loadSSMS(BNB_result_transformed, tokenName)\n",
    "\n",
    "# 4 stETH data stored in 'stETH_result' - GET stETH\n",
    "tokenName = 'stETH'\n",
    "stETH_result=ExtractAPI('0xae7ab96520DE3A18E5e111B5EaAb095312D7fE84')\n",
    "stETH_result_transformed=TransformJSON(stETH_result)\n",
    "loadSSMS(stETH_result_transformed, tokenName)\n",
    "\n",
    "# 5 TRON data stored in 'TRON_result' - GET TRON\n",
    "tokenName = 'TRON'\n",
    "TRON_result=ExtractAPI('0x50327c6c5a14DCaDE707ABad2E27eB517df87AB5')\n",
    "TRON_result_transformed=TransformJSON(TRON_result)\n",
    "loadSSMS(TRON_result_transformed, tokenName)\n",
    "\n",
    "# 6 Theta data stored in 'Theta_result' - GET Theta\n",
    "tokenName = 'Theta'\n",
    "Theta_result=ExtractAPI('0x3883f5e181fccaF8410FA61e12b59BAd963fb645')\n",
    "Theta_result_transformed=TransformJSON(Theta_result)\n",
    "loadSSMS(Theta_result_transformed, tokenName)\n",
    "\n",
    "# 7 Matic data stored in 'Matic_result' - GET Matic\n",
    "tokenName = 'Matic'\n",
    "Matic_result=ExtractAPI('0x7D1AfA7B718fb893dB30A3aBc0Cfc608AaCfeBB0')\n",
    "Matic_result_transformed=TransformJSON(Matic_result)\n",
    "loadSSMS(Matic_result_transformed, tokenName)\n",
    "\n",
    "# 8 ChainLink data stored in 'ChainLink_result' - GET ChainLink\n",
    "tokenName = 'ChainLink'\n",
    "ChainLink_result=ExtractAPI('0x514910771AF9Ca656af840dff83E8264EcF986CA')\n",
    "ChainLink_result_transformed=TransformJSON(ChainLink_result)\n",
    "loadSSMS(ChainLink_result_transformed, tokenName)\n",
    "\n",
    "# 9 Dai Stablecoin data stored in 'Dai_result' - GET Dai\n",
    "tokenName = 'Dai'\n",
    "Dai_result=ExtractAPI('0x6B175474E89094C44Da98b954EedeAC495271d0F')\n",
    "Dai_result_transformed=TransformJSON(Dai_result)\n",
    "loadSSMS(Dai_result_transformed, tokenName)\n",
    "\n",
    "# 10 Uniswap Stablecoin data stored in 'Uni' - GET Uni\n",
    "tokenName = 'Uniswap'\n",
    "Uni_result=ExtractAPI('0x1f9840a85d5aF5bf1D1762F925BDADdC4201F984')\n",
    "Uni_result_transformed=TransformJSON(Uni_result)\n",
    "loadSSMS(Uni_result_transformed, tokenName)"
   ]
  },
  {
   "cell_type": "code",
   "execution_count": null,
   "id": "c85b7bb5-c649-4fe5-81c9-4d274e7bfe55",
   "metadata": {},
   "outputs": [],
   "source": []
  },
  {
   "cell_type": "code",
   "execution_count": null,
   "id": "539ae781-48e7-4672-9437-460eec43f9e2",
   "metadata": {},
   "outputs": [],
   "source": []
  }
 ],
 "metadata": {
  "kernelspec": {
   "display_name": "Python 3 (ipykernel)",
   "language": "python",
   "name": "python3"
  },
  "language_info": {
   "codemirror_mode": {
    "name": "ipython",
    "version": 3
   },
   "file_extension": ".py",
   "mimetype": "text/x-python",
   "name": "python",
   "nbconvert_exporter": "python",
   "pygments_lexer": "ipython3",
   "version": "3.11.5"
  }
 },
 "nbformat": 4,
 "nbformat_minor": 5
}
